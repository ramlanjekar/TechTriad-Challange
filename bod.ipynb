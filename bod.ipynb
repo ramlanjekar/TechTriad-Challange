{
  "nbformat": 4,
  "nbformat_minor": 0,
  "metadata": {
    "colab": {
      "provenance": []
    },
    "kernelspec": {
      "name": "python3",
      "display_name": "Python 3"
    },
    "language_info": {
      "name": "python"
    }
  },
  "cells": [
    {
      "cell_type": "code",
      "source": [
        "!pip install -q  PyPDF2 pandas dask[complete] groq"
      ],
      "metadata": {
        "colab": {
          "base_uri": "https://localhost:8080/"
        },
        "id": "03p-CtWmb0gT",
        "outputId": "4e01a477-af2a-45d5-939a-8dfbecec758d"
      },
      "execution_count": 1,
      "outputs": [
        {
          "output_type": "stream",
          "name": "stdout",
          "text": [
            "\u001b[?25l   \u001b[90m━━━━━━━━━━━━━━━━━━━━━━━━━━━━━━━━━━━━━━━━\u001b[0m \u001b[32m0.0/232.6 kB\u001b[0m \u001b[31m?\u001b[0m eta \u001b[36m-:--:--\u001b[0m\r\u001b[2K   \u001b[91m━━━━━━━━━━━━━━━━━━━━━━━━━━━━━━━━━━━━━━\u001b[0m\u001b[91m╸\u001b[0m\u001b[90m━\u001b[0m \u001b[32m225.3/232.6 kB\u001b[0m \u001b[31m8.2 MB/s\u001b[0m eta \u001b[36m0:00:01\u001b[0m\r\u001b[2K   \u001b[90m━━━━━━━━━━━━━━━━━━━━━━━━━━━━━━━━━━━━━━━━\u001b[0m \u001b[32m232.6/232.6 kB\u001b[0m \u001b[31m5.9 MB/s\u001b[0m eta \u001b[36m0:00:00\u001b[0m\n",
            "\u001b[2K   \u001b[90m━━━━━━━━━━━━━━━━━━━━━━━━━━━━━━━━━━━━━━━━\u001b[0m \u001b[32m109.6/109.6 kB\u001b[0m \u001b[31m10.7 MB/s\u001b[0m eta \u001b[36m0:00:00\u001b[0m\n",
            "\u001b[2K   \u001b[90m━━━━━━━━━━━━━━━━━━━━━━━━━━━━━━━━━━━━━━━━\u001b[0m \u001b[32m1.3/1.3 MB\u001b[0m \u001b[31m27.0 MB/s\u001b[0m eta \u001b[36m0:00:00\u001b[0m\n",
            "\u001b[2K   \u001b[90m━━━━━━━━━━━━━━━━━━━━━━━━━━━━━━━━━━━━━━━━\u001b[0m \u001b[32m1.0/1.0 MB\u001b[0m \u001b[31m47.6 MB/s\u001b[0m eta \u001b[36m0:00:00\u001b[0m\n",
            "\u001b[2K   \u001b[90m━━━━━━━━━━━━━━━━━━━━━━━━━━━━━━━━━━━━━━━━\u001b[0m \u001b[32m243.2/243.2 kB\u001b[0m \u001b[31m12.4 MB/s\u001b[0m eta \u001b[36m0:00:00\u001b[0m\n",
            "\u001b[2K   \u001b[90m━━━━━━━━━━━━━━━━━━━━━━━━━━━━━━━━━━━━━━━━\u001b[0m \u001b[32m43.3/43.3 kB\u001b[0m \u001b[31m4.0 MB/s\u001b[0m eta \u001b[36m0:00:00\u001b[0m\n",
            "\u001b[?25h"
          ]
        }
      ]
    },
    {
      "cell_type": "code",
      "source": [
        "\n",
        "from PyPDF2 import PdfReader\n",
        "import pandas as pd\n",
        "import dask.delayed\n",
        "import dask.distributed\n",
        "from typing import List, Dict, Optional, Tuple\n",
        "import groq\n",
        "import os\n",
        "import json\n",
        "import logging\n",
        "from dataclasses import dataclass\n",
        "from pathlib import Path\n",
        "import time\n",
        "from concurrent.futures import ThreadPoolExecutor\n",
        "import re\n",
        "from google.colab import userdata\n"
      ],
      "metadata": {
        "id": "2VMiOWNvjORs"
      },
      "execution_count": 10,
      "outputs": []
    },
    {
      "cell_type": "code",
      "execution_count": 15,
      "metadata": {
        "id": "7aYj1xJFbs9B"
      },
      "outputs": [],
      "source": [
        "\n",
        "\n",
        "@dataclass\n",
        "class BOQItem:\n",
        "    product_name: str\n",
        "    specification: str\n",
        "    quantity: str\n",
        "    unit: str\n",
        "    page_number: int = 0\n",
        "\n",
        "    def validate(self) -> Tuple[bool, List[str]]:\n",
        "        \"\"\"Validate BOQ item fields.\"\"\"\n",
        "        errors = []\n",
        "        if not self.product_name.strip():\n",
        "            errors.append(\"Empty product name\")\n",
        "        if not self.specification.strip():\n",
        "            errors.append(\"Empty specification\")\n",
        "        if not self.quantity.strip():\n",
        "            errors.append(\"Empty quantity\")\n",
        "        if not self.unit.strip():\n",
        "            errors.append(\"Empty unit\")\n",
        "\n",
        "        try:\n",
        "            float(self.quantity.replace(',', ''))\n",
        "        except ValueError:\n",
        "            errors.append(f\"Invalid quantity format: {self.quantity}\")\n",
        "\n",
        "        return len(errors) == 0, errors\n",
        "\n",
        "    def clean(self) -> None:\n",
        "        \"\"\"Clean and normalize fields.\"\"\"\n",
        "        self.product_name = self.product_name.strip()\n",
        "        self.specification = self.specification.strip()\n",
        "        self.quantity = re.sub(r'[^\\d.,]', '', self.quantity)\n",
        "        self.unit = self.unit.strip().lower()\n",
        "\n",
        "class BOQExtractor:\n",
        "    def __init__(self):\n",
        "        \"\"\"Initialize with Groq client.\"\"\"\n",
        "        # Get first available API key from environment\n",
        "        api_key = userdata.get('GROQ_API_KEY')\n",
        "        if not api_key:\n",
        "            raise ValueError(\"GROQ_API_KEY not found in environment\")\n",
        "\n",
        "        self.client = groq.Groq(api_key=api_key)\n",
        "\n",
        "        # Configure logging\n",
        "        logging.basicConfig(\n",
        "            level=logging.INFO,\n",
        "            format='%(asctime)s - %(levelname)s - %(message)s'\n",
        "        )\n",
        "        self.logger = logging.getLogger(__name__)\n",
        "\n",
        "    def extract_text(self, pdf_path: str) -> Dict[int, str]:\n",
        "        \"\"\"Extract text from PDF and return dict with page numbers and text.\"\"\"\n",
        "        page_texts = {}\n",
        "\n",
        "        try:\n",
        "            with open(pdf_path, 'rb') as file:\n",
        "                pdf = PdfReader(file)\n",
        "                for i, page in enumerate(pdf.pages, start=1):\n",
        "                    text = page.extract_text()\n",
        "                    if text.strip():\n",
        "                        cleaned_text = \" \".join(line.strip() for line in text.splitlines())\n",
        "                        page_texts[i] = cleaned_text\n",
        "        except Exception as e:\n",
        "            self.logger.error(f\"Error processing PDF: {e}\")\n",
        "            raise\n",
        "\n",
        "        return page_texts\n",
        "\n",
        "    def extract_fields(self, chunk: str) -> List[BOQItem]:\n",
        "        \"\"\"Extract BOQ fields with validation and cleaning.\"\"\"\n",
        "        prompt = \"\"\"You are a precise extractor that only outputs valid JSON arrays. Extract these fields from the text:\n",
        "        1. Product Name\n",
        "        2. Product Specification with Description\n",
        "        3. Quantity\n",
        "        4. Unit of Measurement\n",
        "\n",
        "        Only output a valid JSON array like this, with no additional text:\n",
        "        [\n",
        "            {\n",
        "                \"product_name\": \"example name\",\n",
        "                \"specification\": \"detailed spec\",\n",
        "                \"quantity\": \"numeric value\",\n",
        "                \"unit\": \"unit of measurement\"\n",
        "            }\n",
        "        ]\n",
        "\n",
        "        If no items are found, output an empty array: []\"\"\"\n",
        "\n",
        "        try:\n",
        "            response = self.client.chat.completions.create(\n",
        "                model=\"llama-3.3-70b-versatile\",\n",
        "                messages=[\n",
        "                    {\"role\": \"system\", \"content\": prompt},\n",
        "                    {\"role\": \"user\", \"content\": chunk}\n",
        "                ],\n",
        "                temperature=0.2,  # Lower temperature for more consistent output\n",
        "                max_tokens=1000\n",
        "            )\n",
        "\n",
        "            content = response.choices[0].message.content\n",
        "\n",
        "            # Debug logging\n",
        "            self.logger.debug(f\"Raw LLM response: {content}\")\n",
        "\n",
        "            # Clean the content to ensure it's valid JSON\n",
        "            content = content.strip()\n",
        "            # Remove any markdown code block markers if present\n",
        "            content = content.replace('```json', '').replace('```', '')\n",
        "\n",
        "            try:\n",
        "                items = json.loads(content) if content else []\n",
        "            except json.JSONDecodeError as e:\n",
        "                self.logger.error(f\"JSON decode error: {e}\")\n",
        "                self.logger.error(f\"Problematic content: {content}\")\n",
        "                return []\n",
        "\n",
        "            if not isinstance(items, list):\n",
        "                self.logger.error(f\"Expected list but got {type(items)}\")\n",
        "                return []\n",
        "\n",
        "            boq_items = []\n",
        "            for item in items:\n",
        "                try:\n",
        "                    boq_item = BOQItem(**item)\n",
        "                    boq_item.clean()\n",
        "                    is_valid, errors = boq_item.validate()\n",
        "                    if is_valid:\n",
        "                        boq_items.append(boq_item)\n",
        "\n",
        "                except Exception as e:\n",
        "                    self.logger.warning(f\"Error creating BOQ item: {e}\")\n",
        "                    continue\n",
        "\n",
        "            return boq_items\n",
        "\n",
        "        except Exception as e:\n",
        "            self.logger.error(f\"Error extracting fields: {e}\")\n",
        "            return []\n",
        "\n",
        "    def process_document(self, pdf_path: str, output_path: str) -> None:\n",
        "        \"\"\"Process document and save to Excel.\"\"\"\n",
        "        try:\n",
        "            pdf_path = Path(pdf_path)\n",
        "            if not pdf_path.exists():\n",
        "                raise FileNotFoundError(f\"PDF file not found: {pdf_path}\")\n",
        "\n",
        "            page_texts = self.extract_text(pdf_path)\n",
        "            all_items = []\n",
        "\n",
        "            for page_num, text in page_texts.items():\n",
        "                self.logger.info(f\"Processing page {page_num}...\")\n",
        "                items = self.extract_fields(text)\n",
        "                if items:  # Only log if items were found\n",
        "                    self.logger.info(f\"Found {len(items)} items on page {page_num}\")\n",
        "                for item in items:\n",
        "                    item.page_number = page_num\n",
        "                all_items.extend(items)\n",
        "\n",
        "            if not all_items:\n",
        "                self.logger.error(\"No valid BOQ items extracted from any page\")\n",
        "                raise ValueError(\"No valid BOQ items extracted\")\n",
        "\n",
        "            df = pd.DataFrame([\n",
        "                {\n",
        "                    'Product Name': item.product_name,\n",
        "                    'Product Specification': item.specification,\n",
        "                    'Quantity': item.quantity,\n",
        "                    'Unit': item.unit,\n",
        "                    'Page Number': item.page_number\n",
        "                }\n",
        "                for item in all_items\n",
        "            ])\n",
        "\n",
        "            df.to_excel(output_path, index=False)\n",
        "            self.logger.info(f\"Saved {len(df)} items to {output_path}\")\n",
        "\n",
        "        except Exception as e:\n",
        "            self.logger.error(f\"Processing failed: {str(e)}\")\n",
        "            raise\n",
        "\n"
      ]
    },
    {
      "cell_type": "code",
      "source": [
        "def main():\n",
        "    try:\n",
        "        extractor = BOQExtractor()\n",
        "        pdf_path = \"/content/tender_601813909e29b_TenderNitPPbag.pdf\"\n",
        "        output_path = \"extracted_boq.xlsx\"\n",
        "\n",
        "        extractor.process_document(pdf_path, output_path)\n",
        "\n",
        "    except Exception as e:\n",
        "        logging.error(f\"Processing failed: {str(e)}\")\n",
        "        raise\n",
        "\n",
        "if __name__ == \"__main__\":\n",
        "    main()"
      ],
      "metadata": {
        "colab": {
          "base_uri": "https://localhost:8080/"
        },
        "id": "IvkoyA7djB_-",
        "outputId": "4664f106-ef40-49fe-fce8-85b751f85854"
      },
      "execution_count": 14,
      "outputs": [
        {
          "output_type": "stream",
          "name": "stderr",
          "text": [
            "WARNING:__main__:Invalid BOQ item: ['Empty quantity', 'Invalid quantity format: ']\n",
            "WARNING:__main__:Invalid BOQ item: ['Empty quantity', 'Invalid quantity format: ']\n"
          ]
        }
      ]
    },
    {
      "cell_type": "code",
      "source": [
        "def extract_text( pdf_path: str) -> str:\n",
        "          \"\"\"Extract text from a single PDF and return as a single string with error handling.\"\"\"\n",
        "          all_text = []\n",
        "\n",
        "\n",
        "\n",
        "          try:\n",
        "              with open(pdf_path, 'rb') as file:\n",
        "                  pdf = PdfReader(file)\n",
        "                  for i, page in enumerate(pdf.pages):\n",
        "                      text = page.extract_text()\n",
        "                      if text.strip():  # Only include non-empty pages\n",
        "                          # Clean unnecessary newlines\n",
        "                          cleaned_text = \" \".join(line.strip() for line in text.splitlines())\n",
        "                          all_text.append(cleaned_text)\n",
        "          except Exception as e:\n",
        "\n",
        "              raise ValueError(f\"Failed to process PDF at {pdf_path}\")\n",
        "\n",
        "          if not all_text:\n",
        "              raise ValueError(\"No text could be extracted from the PDF\")\n",
        "\n",
        "          return \" \".join(all_text)\n",
        "\n",
        "def create_chunks( text: str, chunk_size: int = 8000, overlap: int = 20) -> List[str]:\n",
        "        \"\"\"Split text into chunks with overlap and table preservation.\"\"\"\n",
        "        if not text.strip():\n",
        "            raise ValueError(\"Empty text provided for chunking\")\n",
        "\n",
        "        lines = text.split('\\n')\n",
        "        chunks = []\n",
        "        current_chunk = []\n",
        "        current_size = 0\n",
        "\n",
        "        for line in lines:\n",
        "            line_size = len(line.split())\n",
        "\n",
        "            # Detect potential table rows\n",
        "            is_table_row = bool(re.search(r'\\d+\\s*[x×]\\s*\\d+|[\\d.,]+\\s*(pcs|m2|m3|kg|tons?)', line, re.I))\n",
        "\n",
        "            # If the chunk size exceeds and it's not a table row, create a new chunk\n",
        "            if current_size + line_size > chunk_size and current_chunk and not is_table_row:\n",
        "                # Add overlap from the previous chunk\n",
        "                overlap_lines = current_chunk[-overlap:] if overlap > 0 else []\n",
        "                chunks.append('\\n'.join(current_chunk))\n",
        "                current_chunk = overlap_lines.copy()\n",
        "                current_size = sum(len(l.split()) for l in overlap_lines)\n",
        "\n",
        "            # Add the current line to the chunk\n",
        "            current_chunk.append(line)\n",
        "            current_size += line_size\n",
        "\n",
        "        # Append the last chunk\n",
        "        if current_chunk:\n",
        "            chunks.append('\\n'.join(current_chunk))\n",
        "\n",
        "        return chunks"
      ],
      "metadata": {
        "id": "j0uOezSspOnI"
      },
      "execution_count": null,
      "outputs": []
    },
    {
      "cell_type": "code",
      "source": [
        "pdf_path = \"/content/tender_601813909e29b_TenderNitPPbag.pdf\"\n",
        "result=extract_text(pdf_path)\n",
        "chunks=create_chunks(result)"
      ],
      "metadata": {
        "id": "Jd6P1TXqpSZa"
      },
      "execution_count": null,
      "outputs": []
    },
    {
      "cell_type": "code",
      "source": [
        "chunks"
      ],
      "metadata": {
        "colab": {
          "base_uri": "https://localhost:8080/"
        },
        "collapsed": true,
        "id": "yNHrTmXEpclL",
        "outputId": "416e80eb-4570-440e-8dd5-20cb21f710b3"
      },
      "execution_count": null,
      "outputs": [
        {
          "output_type": "execute_result",
          "data": {
            "text/plain": [
              "['CEMENT CORPORATION OF INDIA LIMITED (A GOVERNMENT OF INDIA ENTERPRISE) RAJBAN CEMENT FACTORY(ISO 9001:2015Certified Company) Tehsil Paonta Sahib Distt. Sirmour – (HP)-173028 Tel: (01704)266223 / Fax 266270 Email: rajban@cciltd.in CIN-U74899DL1965GOI004322 Website: www.cciltd.in NIT No.:RCF/MM /PP Bag/2021 Dated: 01.02.2021 NOTICE INVITING E-TENDER CUM REVERSE AUCTION NOTICE (Only through e-procurement)  Online electronic bids through Electronic Tendering System (ETS) are inviting from the parties of reputed who are interested in tender for Supply of LAMINATED POLYPROPYLENE (PP) BAGS. The complete set of tender document is available on websites: www.cciltd.in, and www.cci-etender.com of Antares Systems Ltd.  E-TENDER NO. RCF/MM /PP Bag/2021 MODE OF TENDER e-Procurement System (Online Part A - Techno- Commercial Bid and Part B - Price Bid) through www.cci-etender.com of Antares Systems Ltd Date of NIT available to parties to download From 02.02.2021 (10.00 hrs.) Till 23.02.2021 (16.00 hrs.) i) Earnest Money Deposit NIL  Last date of submission of EMD and other documents required as per tender terms & conditions under covering letter(Annexure: A-II) in Hard Copy(ies)  23.02.2021 (16.00 hrs.) Date of Starting of e-Tender for submission of on line Techno- Commercial Bid and Price Bid at www.cci-etender.com  From 02.02.2021 (10.00 hrs.) Till 23.02.2021 (16.00 hrs.) Date & time of opening of Part-A (i.e. Techno-Commercial Bid) Part-B Price Bid: Date of opening of Part- B i.e. price bid shall be informed separately 23.02.2021 at 16.3 0 hrs.   To be communicated separately   Validity of bids 120 days from the date of the techno- commercial bid opening.  Offer is invited for the following as per details given below: - Sl  no Description of the item. Quantity Delivery Period 1. Laminated circular woven PP non -gusseted bags (forpacking 50 kgs cement) conforming to IS:11652-2000 with latest amendments, duly printed as per the printing instructions given by CCI Rajban. As per scope, specification, quantity & quality given Part-III Special Terms & conditions of Tender.    30000(+/- 20%)  The delivery shall be completed within one month from the date of placement of Order.     1. Only those tenders will be considered who fulfill the terms & conditions mentioned in the tender documents. 2.  The price- bid should be only as per CCI’s price - bid format otherwise the tender is liable for rejection. 3.  Tenderer must visit CCI web site  www.cciltd.in for Part-I & II and submit the same along with the Annxure-1 to 9, Part-I & Part-II and their annexure are part of this tender, tenderer must sign and upload online along with techno- commercial bid of the tender.Part- I & II is available in English as well in Hindi in website for better understanding, however, in case of any contradiction in Hindi & English version, English version shall prevail.   HOD (MM) List of Annexure  The tender documents comprise of following:-  Annexure-I Important Instructions to Bidders for E-Procurement. Covering letter, Part-I - Instruction to tenderers, Part-II General terms & conditions, Integrity pact along with Annexure-1to 9, which is availablein CCI web site must be submitted by tenderer duly filled & Signed. Annexure-V Part-III- Special terms & conditions Annexure VI Price Bid (Price schedule) to be submitted duly filled in on-line as Part- B. Cost break up rates quoted may also be furnished  Please visit our website www.cciltd.in for Covering letter, Part-I - Instruction to tenderers, Part-II- General terms & conditions, Integrity pact, all formats and submit the same along with Annexure- 1to 9, duly filled & signed along with the tender.    Signature of tenderer   Annexure: I  Important Instructions for E-procurement  This is an e-procurement event of CEMENT CORPORATION OF INDIA. The e-procurement service provider is www.cci-etender.com of Antares Systems Ltd. No 24,1stfloor,Sudha complex ,3rd stage,4thblock,Basaveshwaranagar, Bangalore 560079 You are requested to read the tender terms & conditions ( Annexure: I, II, III, IV, V & VI) of this tender before submitting your online tender. Tenderers who do not comply with the conditions with documentary proof (wherever required) will not qualify in the Tender for opening of price bid.  1. Process of E-tender : Registration :  The process involves vendor’s registration with tender wizard e-procurement portal. Only after registration, the vendor(s) can submit his/their bids electronically. Electronic Bidding for submission of Techno-Commercial Bid as well as Price Bid over the internet will be done. The Vendor should possess Class III signing type digital certificate. Vendors are to make their own arrangement for bidding from a P.C. connected with Internet. Antares systems ltd is not responsible for making such arrangement. (Bids will not be recorded without Digital Signature).  SPECIAL NOTE: THE PRICE BID AND THE TECHNO- COMMERCIAL BID HAS TO BE SUBMITTED ON-LINE AT www.cci-etender.com  Vendors are required to register themselves online with www.cci-etender.com → →Register Me’  link. Filling up details and creating own user id and password → Submit.Vendors will receive a system generated mail confirming their registration in their e-mail  which has been provided during filling  the registration form.In case of any clarification, please contact CCI/ Antares systems ltd, (before the scheduled time of the e- tender).  Contact person (Cement Corporation of India):  1 .DGM (Prod), 2. HOD (MM) Mobile: 07827989563, Mobile: 7827989566, Email: prodn_rjo@cciltd.in e.mail:ccimmrjo@rediffmail.com  Contact details (Antares Systems Ltd):  1. 08049352000 2. 03346046611  B) System Requirement:  Windows 8,10 professional Operating System, internet browser-9,10 &11 Signing type III digital signature Java JRE 6 and above 2. (A) Part-A Techno -Commercial bid will be opened electronically on specified date and time as given in the NIT. Bidder(s) can witness electronic opening of bid. (B) Part-B Price bid will be opened electronically of only those bidder(s) who’s Part-A Techno- Commercial Bid is found to be Techno-Commercially acceptable by CCI. Such bidder(s) will be intimated date of opening of Part-B Price bid, through valid email confirmed by them.  Note:  The tenderers are advised to offer their lowest possible rates taking into account the prevailing market conditions. There would generally be no negotiations hence please submit your most competitive prices while submitting the price bid. However, if the rate is still considered high, action as per prevailing instruction/guideline shall be taken. 3. All entries in the tender should be entered in online Technical & Commercial Formats without any ambiguity. 4. In case of failure to access the payment towards non-refundable fees for any reason, the vender, in term, will not have the access to on line e-tender and no correspondence in this respect will be entertained and CCI will not be responsible for any such lapses on this account. Bidder(s) are advised to make remittance of non-refundable fees through separate DD well in advance and verify completion of transaction in respect of non-refundable fees. Vendors are instructed to use Upload Documents link in My menu to upload documents in document library. Multiple documents can be uploaded. Maximum size of single document for upload is 5 MB. Once documents are uploaded in the library, vendors can attach documents through AttachDocument link against the particular tender. For further assistance please follow instructions of vendor guide. 5. All notices/corrigendum and correspondence to the bidder(s) shall be sent by email only during the process till finalization of tender by CCI. Hence the bidders are required to ensure that their corporate email I.D. provided is valid and updated at the stage of registration of vendor with tender wizard (i.e. Service Provider). Bidders are also requested to ensure validity of their DSC (Digital Signature Certificate). 6. The responsibility of downloading the related corrigenda, if any, will be that of the downloading parties. 7. E-tender cannot be accessed after the due date and time mentioned in NIT. 8. Bidding in e -tender:  a.) It is mandatory that all the bids are submitted with digital signature certificate otherwise the same will not be accepted by the system. b.) Buyer reserves the right to cancel or reject or accept or withdraw or extend the tender in full or part as the case may be without assigning any reason thereof. c.) No deviation of the terms and conditions of the tender document is acceptable. Submission of  bid in the e-tender floor by any bidder confirms his acceptance of terms & conditions for the tender. d.) Unit of Measure (UOM) is indicated in the e-tender Floor. Rate to be quoted should be in Indian Rupee as per UOM indicated in the e-tender floor/tender document. 9. Any order resulting from this open e-tender shall be governed by the terms and conditions mentioned therein. 10. No deviation to the technical and commercial terms & conditions are allowed. 11. After submitting online bid, the bidder cannot access the tender, once it has been submitted with digital signature 12. CCI has the right to cancel this e-tender or extend the due date of receipt of bid(s) without assigning any reason thereof. 13 The online tender should be submitted strictly as per the terms and conditions and procedures laid down in the website www.cci-etender.com of Antares systems Ltd. 14. The bidders must upload all the documents required as per terms of NIT. Any other document uploaded which is not required as per the terms of the NIT shall not be considered. 15 The bid will be evaluated based on the filled-in technical & commercial formats. 16. The documents uploaded by bidder(s) will be scrutinized. In case any of the information furnished by the bidder is found to be false during scrutiny, punitive action including suspension and banning of business can also be taken against defaulting bidders. 17 Bidders are requested to read the vendor guide and see the video in the page www.cci- etender.com to familiarize themselves with the system before bidding.   For and on behalf of CCI Ltd.     HOD (MM) CEMENT CORPORATION OF INDIA LIMITED (A GOVT. OF INDIA ENTERPRISE) PART-III – SPECIAL TERMS & CONDITIONS FOR SUPPLY OF LAMINATED POLYPROPYLENE (PP) BAGS  In addition to the General terms & conditions of the tender under Part I & II, the following additional specifications and special conditions will also apply to the contract. These special conditions given below, if contrary to any conditions given in Part I & II, shall prevail thereon.  1.0 SCOPE: Rates against this tender are invited for supply of laminated duly printed multi colored LPP bags conforming to IS: 11652-2000 with latest amendments, if any of size of 71x 49 cms (net dimension), weighing 75 gms(+4/-2 gms).  2.0 Eligibility Criteria: - Bidder should have own manufacturing unit with a production capacity of not less than 50,000 LPP Bags per month in case interested to supply to Rajban unit.  3.0  SPECIFICATIONS : Laminated PP bags shall be supplied as per specifications given below :  1.Fabric : Laminated circular woven PP non-gusseted colored bags (for packing 50 kg. cement) conforming to IS:11652:2000 with latest amendments, if any duly printed as per printing instructions.(the color of bags and printing instruction shall be followed at the time of placement of order). 2. Sizes:- Dimensions  Requirement  Tolerance Length of sack inside  710 MM +5MM/ -5MM Width of the sack 490MM +5MM/- 5MM Width of valve   100MM Depth of the valve 225MM  +10MM/-0MM Mass of sack  75 gms +4 gms /-2gms  The other specifications such as breaking strength, elongation of bags etc. shall be governed by IS: 11652:2000, with latest amendment, if any. All other parameters/specifications/sampling/packing etc. shall be as per above mentioned IS. 3.1 The design of printing shall be provided by us at the time of order or subsequently and the printing design may change during the period of contract giving suitable time without any additional financial involvement. While issuing printing instructions the colour of the bag and their quantities along with printing instructions shall be issued. 3.2 Bags, if required in other sizes shall also be supplied and the applicable rates shall be determined on proportionate mass of bag.  4.0 QUANTITY:  Our requirement will be approx. 30000 LPP bags   subject to variation of +/- 20% .   4.1 The Corporation can increase or decrease the quantity without assigning any reason and will not be liable for any claim, whatsoever, on account of increase or decrease in the quantity.  5.0 QUALITY: The quality and timely delivery of LPP bags indented are the essence of this contract. Failure on the part of the party to supply LPP bags in time and of right quality will be viewed strictly and penalty for failure in quality shall be imposed other than the penalty for late delivery. 5.1 In case of supply of defective bags, for whatever reason, if the quantity of defective bags supplied is more than 2% of the total quantity of bags awarded under the contract or under the extension thereof, penalty @25% of the value of the total No. of defective bags supplied under that contract, shall be recovered from the bills of the bags supplier and the supplier in addition will be liable to replace the defective bags.  6.0 DELIVERY: 6.1 The delivery shall be completed within one month from the date of placement of Order. 6.2 In the event of CCI unit delaying instructions for phased delivery/issue of printing instructions/road permit, if required, the supplier shall make all possible efforts to complete such supplies also within the stipulated period. However, the supplier may be entitled for extension of the delivery period equivalent to period by which instructions/Road Permits have been delayed by the Consignee. 6.3 The completion of delivery shall be on the date of receipt of material at our factory site. It shall be the responsibility of the supplier to ensure that the material reaches our factory as per delivery schedule given by our factory. 6.4 Liquidated damages for delay in delivery shall be levied @ ½% (half percent) per fortnight or part thereof for the quantity delivered late against specific indents only subject to a max. of 5% of the delayed portion of supplies against that indent. The Corporation will, however, not be bound to prove that it has suffered to the extent of the liquidated damages claimed. 6.5 For the purpose of calculation of liquidated damages, landed cost of bags inclusive of taxes, duties and freight will be taken into account. 6.6 CCI reserves the right to cancel the contract or a portion thereof, if so desired, purchase or authorize the purpose of stores, not so delivered or others of a similar description where materials exactly complying the particulars are not in the opinion of the Corporation which shall be final, readily procurable, at the risk and cost of the supplier, by giving sufficient notice in writing.  7.0 PACKING/MARKING DESPATCH : 7.1 500 bags or multiples there of shall be packed to form a bale, the bale being formed using a layer of PP woven fabric and suitably secured. 7.2 Each bale should be clearly marked as under : i) Name of the manufacturer ii) Type and size of sacks iii) No. of sacks iv) Gross weight v) Net weight vi) Month and year of manufacture vii) Purchase Order no. & date viii) Name of the Consignee / Unit 7.3 The dispatch of the goods shall be effected, under clear unqualified Railway receipt/lorry way bill (rail receipts for each wagon separately), in such a manner as shall ensure the safe arrival of the consignment in good condition without damage or deterioration to quality thereof. Any deterioration in transit for any reasons, whatsoever, will be to the supplier’s account. It will be the responsibility of the supplier to obtain wagons for rail dispatches.  8.0 PRICES: 8.1 Prices quoted shall be firm on FOR destination basis and no escalation on any account whatsoever shall be permitted except for GST (Goods & Services Tax)  8.2 Prices are to be quoted strictly as per Proforma attached at Annexure-VII clearly specifying the basic ex-works rate, freight, GST.  9.0 INVOICING:- 9.1 Original copy of the (Tax invoice) marked as `ORIGINAL FOR BUYER’ and one extra copy along with packing list, delivery challan, and inspection certificate shall be sent to the consignee. 9.2 The copy of the Tax invoice or as specified in the GST, shall be carried by the transporter and handed over to the consignee for taking credit under GST Rule. 9.3 Immediately after dispatch of goods, Telex/Telegraphic intimation shall be sent to us giving details of items supplied, quantity, truck No. & LR No. etc.  10.0 PAYMENT TERMS :-100% payment towards cost of material including GST, freight and any other levy of Tax (if any) shall be released within 15 days after receipt, physical inspection and acceptance of material at our factory site & after adjustment of any recovery/ liquidated damages for delay in delivery, if any.  11.0 INSPECTION :- 11.1 We reserve the right to depute our representative or to appoint an external Inspection Agency viz. DGS&D etc. or an inspector of our choice for inspection and testing of the bags at any stage of manufacture and storage at the factory premises and also for pre-shipment inspection. The said agency/person shall be entitled to examine the material, workmanship, etc. during manufacture/storage of the bags and they/he shall be entitled to carry out such test as they/he may consider necessary to satisfy themselves/himself about the acceptability of the bags. Despite the fact that the bags may be subject to inspection at all stages of manufacture and storage and also to pre-shipment inspection, however the final inspection shall be carried out at the destination point, by our works. Inspection charges to the pre-inspecting agency fixed by CCI will be paid by CCI. However, inspection charges for rejected lot(s) of fabric and bags and for re-inspection of fabric shall be to the account of defaulting supplier. The bags supplied shall also be subject to the testing at CIPET Laboratory by CCI, if situation demands. 11.2 The bags shall be inspected on receipt at the factory. If any deviations are noticed during the course of inspection and the material is rejected in whole or part, the same shall be communicated to the supplier. The decision of the competent authority in respect of inspection shall be accepted by the supplier. The supplier can, however, request for inspection of the material in the presence of their representative and the results of such inspection shall be final and binding on the supplier.  In the case of rejection of bags, the supplier should make immediate replacement, otherwise CCI reserves the right to arrange it from alternate suppliers so that the dispatch of cement is not affected. For such cases, the extra expenditure, if any, shall be debited to the supplier.  No payment will be made for lot(s) rejected at our plants either to supplier or to preinspecting agency.  11.3 The bags rejected by consignee shall be removed by the supplier within 15 days from the date of issue of rejection memo by the consignee, at supplier’s own cost and the replacement is to be effected within 30 days. No expenses either for replacing the material or taking back the rejected goods shall be borne by CCI.  12.0 ACTIONS IN CASE OF BURSTAGE OF BAGS DURING PACKING OF CEMENT;- 12.1 The cost of burst bags will be debited to the supplier’s account. 12.2 The amount of recoveries, if any, as per Clause 13.1 above, shall be recovered from the supplier’s subsequent bills.  13.0 TRANSIT INSURANCE:- 13.1 Transit Insurance shall be supplier’s responsibility and at his own cost. The supplier will be responsible for any loss during transit till the entire stores dispatched, reach the destination in good condition. The consignee will as soon as possible, notify the supplier of any loss or damage to the stores that may occur during transit. Prices quoted should include transit insurance charges, if any.  13.2 In case of any shortage/pilferage/non-delivery, the consignee will try to obtain necessary short receipts/damage certificate from the railways/carriers and lodge the claim on the railways/carriers under intimation to the supplier but the consignee will not be responsible in case railways/carriers refuse to give such certificate.  13.3 The relevant papers duly endorsed in favour of the supplier will be forwarded to them for further processing of the claim with the railways/carriers. The consignee shall recover the amount on account of the shortage etc. from any money due or from the security deposit of the supplier irrespective of railways’ acceptance of the claim in full/part of total rejection and the amount of such recoveries shall be recovered from any other contract/shall be made good by the supplier, on being called upon to do so.  14.0  REMOVAL OF REJECTED GOODS :-  14.1 All LPP bags rejected or refused on ground of inferior quality or any ground, whatsoever, shall be removed and replaced by the supplier at his own cost.  14.2 Such rejected materials will lie at the risk and responsibility of the supplier concerned and the Corporation will not accept any responsibility for its loss, damage or deterioration etc. while in their premises after rejection.  14.3 In the event of non-removal of bags by the supplier as aforesaid, it shall be lawful for the Corporation to dispose off such bags in such manner as it deems fit. The supplier shall be credited with the sale proceeds thereof, if any, after deducting the payments already made for those goods and incidental expenses incurred. The supplier shall not be entitled to claim any compensation for loss or damage occasioned by such sale. The decision of the Corporation shall be final and binding in all such cases. If any amount is left to be recovered after the above adjustment, the same shall be recovered from the security deposit of the supplier or from any other dues against this or against any other contract shall be made good by the supplier on being called upon to do so.  15.0 INFORMATION / PARTICULARS REQUIRED TO BE FURNISHED BY THE TENDERER : The following information/particulars are required to be furnished by the tenderers along with the techno-commercial bid: 15.1 Name(s) of owner(s)/proprietor(s) with full address. 15.2 Date of commencement of manufacturing of LPP bags. 15.3 Name of banker(s) and reference from banker(s). 15.4 Financial status of unit(s) (attach previous 3 years balance sheets and profit/loss statements duly certified by a Chartered Accountant). 15.5 Manufacturing capacity in terms of quantity  per month :- i) Type, number and capacity of extruders. ii) Details of weaving machines : a) Flat looms – nos./make and capacity of each b) Circular looms – nos./make and capacity of each c) Lamination machines – nos./make and capacity. 15.6 List of testing equipment installed with complete detail. 15.7 a) List of major cement plants to which supplies have been made during the past 3 years. Also attach performance reports from the customers. b) List of customers other than cement plants to which supplies have been made in the last 3 years. Also attach performance reports from the customers. c) List of major orders/contracts under execution with complete details such as names of customer, quantity contracted etc. 15.8 Whether already registered with Government department/Public Sector Undertaking for supply of LPP bags. Please attach photo copy of Registration certificate. 15.9 A copy of valid registration certificate with Directorate of Industries or DGTD, as the case may be, may be attached as a proof for being a genuine manufacturer of LPP bags.  16.0 PRINTING: 16.1 Printing of the bags should be done as per the art work which will be enclosed at the time of placement of order or furnished subsequently. 16.2 Bags supplied shall have identification mark of the supplier printed on each bag which is to be specified in the techno-commercial offer. 16.3 Successful tenderers should use only Poly ink. (Scratch proof) for printing of bags.  17.0 Goods And Service Tax:- Necessary provision of Goods and Service Tax including documentation on Transportation will be applicable as per rule in force and will be in the scope of the supplier.  18.0 Any conditional offer will not be accepted.              ANNEXURE-VI  CEMENT COFRPORATION OF INDIA LIMITED (A Govt. of India Enterprises) PART-IV : TECHNICAL BID  Tender No.RCF/MM  Sr. No.  Description of the item. Quantity Delivery Period 1 Laminated circular woven PP non- gusseted bags (forpacking 50 kgs cement) conforming to IS:11652- 2000 with latest amendments, duly printed as per the printing instructions given by CCI Rajban. As per scope, specification, quantity & quality given Part-III Special Terms & conditions of Tender. 30000(+/- 20%) The delivery shall be completed within one month from the date of placement of Order.   Important: PLEASE DO NOT QUOTE YOUR PRICES / RATES IN THIS FORMAT. Note:- 1. The supplies shall be carried as per instruction and satisfaction of the Corporation. 2.We have furnished the Price as per above details in Price Bid Annexure-VII. Our quotation is based on the specification given above. The Price Bid is submitted separately in our Price Bid Envelop.    Signature of Tenderer Name & address with seal  Date:-                ANNEXURE-VII (TO BE SUBMITTED ONLINE PRICE BID PROFORMA ONLY, NOT SUBMITTED  IN PHYSICAL FORM) CEMENT COFRPORATION OF INDIA LIMITED (A Govt. of India Enterprises) Rajban Cement Factory PRICE BID PROFORMA  Tender No. RCF/MM/ Supply of LPP Bags for packing of cement to our Rajban unit as per specification in Part-III Annexure-V.  Sr No. Description quantity Basic cost (a ) Freight Charges (b) Sub total ( c ) GST in % (d ) Total (FOR Rajban) e = c+(cx d/ 100 ) 1 Laminated circular woven PP non- gusseted bags (forpacking 50 kgs cement) conforming to IS:11652-2000 with latest amendments, duly printed as per the printing instructions given by CCI Rajban. As per scope, specification, quantity & quality given Part-III Special Terms & conditions of Tender. 30000(+/- 20%)  NOTE:- 1. 1 GST as applicable must be specify indicated as above Ambiguous working like ‘ as applicable” shall not be accepted. 2. No other taxes, duties levies other than mentioned above shall be paid by CCI . 3. The L-1 rate will be arrived considering landed cost of the material inclusive of freight after GST input credit etc .   Signature of Tenderer  ']"
            ]
          },
          "metadata": {},
          "execution_count": 10
        }
      ]
    },
    {
      "cell_type": "code",
      "source": [
        "import os\n",
        "from groq import Groq\n",
        "\n",
        "# Get API key from environment variable\n",
        "GROQ_API_KEY = GROQ_API_KEY\n",
        "\n",
        "# Raise an error if the API key is not found\n",
        "if GROQ_API_KEY is None:\n",
        "    raise ValueError(\"GROQ_API_KEY environment variable is not set.\")\n",
        "\n",
        "client = Groq(GROQ_API_KEY)\n",
        "completion = client.chat.completions.create(\n",
        "    model=\"llama-3.3-70b-versatile\",\n",
        "    messages=[],\n",
        "    temperature=1,\n",
        "    max_completion_tokens=1024,\n",
        "    top_p=1,\n",
        "    stream=True,\n",
        "    stop=None,\n",
        ")\n",
        "\n",
        "for chunk in completion:\n",
        "    print(chunk.choices[0].delta.content or \"\", end=\"\")"
      ],
      "metadata": {
        "colab": {
          "base_uri": "https://localhost:8080/",
          "height": 211
        },
        "id": "BHV-WJk7q8Jg",
        "outputId": "8fc903b7-332f-4f05-a2cb-3129bf29e60b"
      },
      "execution_count": null,
      "outputs": [
        {
          "output_type": "error",
          "ename": "ValueError",
          "evalue": "GROQ_API_KEY environment variable is not set.",
          "traceback": [
            "\u001b[0;31m---------------------------------------------------------------------------\u001b[0m",
            "\u001b[0;31mValueError\u001b[0m                                Traceback (most recent call last)",
            "\u001b[0;32m<ipython-input-34-01f6f5f22579>\u001b[0m in \u001b[0;36m<cell line: 0>\u001b[0;34m()\u001b[0m\n\u001b[1;32m      7\u001b[0m \u001b[0;31m# Raise an error if the API key is not found\u001b[0m\u001b[0;34m\u001b[0m\u001b[0;34m\u001b[0m\u001b[0m\n\u001b[1;32m      8\u001b[0m \u001b[0;32mif\u001b[0m \u001b[0mGROQ_API_KEY\u001b[0m \u001b[0;32mis\u001b[0m \u001b[0;32mNone\u001b[0m\u001b[0;34m:\u001b[0m\u001b[0;34m\u001b[0m\u001b[0;34m\u001b[0m\u001b[0m\n\u001b[0;32m----> 9\u001b[0;31m     \u001b[0;32mraise\u001b[0m \u001b[0mValueError\u001b[0m\u001b[0;34m(\u001b[0m\u001b[0;34m\"GROQ_API_KEY environment variable is not set.\"\u001b[0m\u001b[0;34m)\u001b[0m\u001b[0;34m\u001b[0m\u001b[0;34m\u001b[0m\u001b[0m\n\u001b[0m\u001b[1;32m     10\u001b[0m \u001b[0;34m\u001b[0m\u001b[0m\n\u001b[1;32m     11\u001b[0m \u001b[0mclient\u001b[0m \u001b[0;34m=\u001b[0m \u001b[0mGroq\u001b[0m\u001b[0;34m(\u001b[0m\u001b[0mGROQ_API_KEY\u001b[0m\u001b[0;34m)\u001b[0m\u001b[0;34m\u001b[0m\u001b[0;34m\u001b[0m\u001b[0m\n",
            "\u001b[0;31mValueError\u001b[0m: GROQ_API_KEY environment variable is not set."
          ]
        }
      ]
    },
    {
      "cell_type": "code",
      "source": [],
      "metadata": {
        "id": "BJVSNCzxpdML"
      },
      "execution_count": null,
      "outputs": []
    }
  ]
}